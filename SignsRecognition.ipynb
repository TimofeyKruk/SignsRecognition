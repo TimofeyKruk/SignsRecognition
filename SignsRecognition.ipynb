{
 "cells": [
  {
   "cell_type": "markdown",
   "metadata": {},
   "source": [
    "# Signs Recognition NN"
   ]
  },
  {
   "cell_type": "markdown",
   "metadata": {},
   "source": [
    "###### Created by Timofey Kruk \n",
    "* kruktimofey@gmail.com"
   ]
  },
  {
   "cell_type": "markdown",
   "metadata": {},
   "source": [
    "Simple Convolutional NN for signs recognition.\n",
    "GTSRB - German Traffic Sign Recognition Benchmark was used for learning and testing."
   ]
  },
  {
   "cell_type": "code",
   "execution_count": 198,
   "metadata": {},
   "outputs": [],
   "source": [
    "import numpy as np\n",
    "import cv2\n",
    "import pandas as pd\n",
    "import matplotlib.pyplot as plt\n",
    "from PIL import Image\n",
    "import os\n",
    "import csv\n",
    "#For random shuffling into test and train tests\n",
    "from sklearn.model_selection import train_test_split\n",
    "#To create binary matrix from category vector\n",
    "from keras.utils import to_categorical\n",
    "from keras.models import Sequential\n",
    "from keras.layers import Conv2D,MaxPool2D,Dense,Flatten,Dropout"
   ]
  },
  {
   "cell_type": "markdown",
   "metadata": {},
   "source": [
    "#####  Preparing data"
   ]
  },
  {
   "cell_type": "code",
   "execution_count": 184,
   "metadata": {},
   "outputs": [],
   "source": [
    "data=[]\n",
    "labels=[]\n",
    "#There are 43 classes of signs in dataset\n",
    "classes=43\n",
    "current_path=os.getcwd()\n",
    "dataset_path=os.path.join(current_path,\"gtsrb-german-traffic-sign\")\n",
    "\n",
    "for i in range(classes):\n",
    "    path=os.path.join(dataset_path,\"train\",str(i))\n",
    "    \n",
    "    images=os.listdir(path)\n",
    "    \n",
    "    for image_name in images:\n",
    "        image=Image.open(path+'\\\\'+image_name)\n",
    "        image=image.resize((30,30))\n",
    "        image=np.array(image)\n",
    "        \n",
    "        data.append(image)\n",
    "        labels.append(i)\n",
    "        \n",
    "data=np.array(data)\n",
    "labels=np.array(labels)"
   ]
  },
  {
   "cell_type": "code",
   "execution_count": 192,
   "metadata": {},
   "outputs": [],
   "source": [
    "#train set split\n",
    "X_train,X_test,Y_train, Y_test=train_test_split(data,labels,test_size=0.2)\n",
    "\n",
    "#Converting y into one-hot encoding\n",
    "Y_train=to_categorical(Y_train.T,classes)\n",
    "Y_test=to_categorical(Y_test,classes)"
   ]
  },
  {
   "cell_type": "code",
   "execution_count": 193,
   "metadata": {},
   "outputs": [
    {
     "data": {
      "text/plain": [
       "(31367, 43)"
      ]
     },
     "execution_count": 193,
     "metadata": {},
     "output_type": "execute_result"
    }
   ],
   "source": [
    "Y_train.shape"
   ]
  },
  {
   "cell_type": "markdown",
   "metadata": {},
   "source": [
    "#### Buiding CNN model"
   ]
  },
  {
   "cell_type": "code",
   "execution_count": 199,
   "metadata": {},
   "outputs": [],
   "source": [
    "model=Sequential()\n",
    "\n",
    "model.add(Conv2D(filters=32,kernel_size=(5,5),activation=\"relu\",input_shape=X_train.shape[1:]))\n",
    "\n",
    "model.add(Conv2D(filters=32,kernel_size=(5,5),activation=\"relu\"))\n",
    "model.add(MaxPool2D(pool_size=(2,2)))\n",
    "model.add(Dropout(rate=0.25))\n",
    "\n",
    "model.add(Conv2D(filters=64,kernel_size=(3,3),activation=\"relu\"))\n",
    "\n",
    "model.add(Conv2D(filters=64,kernel_size=(3,3),activation=\"relu\"))\n",
    "model.add(MaxPool2D(pool_size=(2,2)))\n",
    "model.add(Dropout(rate=0.25))\n",
    "\n",
    "model.add(Flatten())\n",
    "\n",
    "model.add(Dense(256,activation=\"relu\"))\n",
    "model.add(Dropout(rate=0.5))\n",
    "\n",
    "#Using softmax for \n",
    "model.add(Dense(classes,activation=\"softmax\"))\n",
    "          \n",
    "#Compilation of the model\n",
    "model.compile(loss=\"categorical_crossentropy\",\n",
    "              optimizer=\"Adam\",\n",
    "              metrics=[\"accuracy\"])          "
   ]
  },
  {
   "cell_type": "markdown",
   "metadata": {},
   "source": [
    "#### Training and validating the model"
   ]
  },
  {
   "cell_type": "code",
   "execution_count": 200,
   "metadata": {},
   "outputs": [
    {
     "name": "stdout",
     "output_type": "stream",
     "text": [
      "Train on 31367 samples, validate on 7842 samples\n",
      "Epoch 1/20\n",
      "31367/31367 [==============================] - 75s 2ms/step - loss: 3.1548 - accuracy: 0.2313 - val_loss: 1.8254 - val_accuracy: 0.5176\n",
      "Epoch 2/20\n",
      "31367/31367 [==============================] - 73s 2ms/step - loss: 1.4383 - accuracy: 0.5827 - val_loss: 0.9615 - val_accuracy: 0.7409\n",
      "Epoch 3/20\n",
      "31367/31367 [==============================] - 73s 2ms/step - loss: 1.0252 - accuracy: 0.6933 - val_loss: 0.4600 - val_accuracy: 0.8585\n",
      "Epoch 4/20\n",
      "31367/31367 [==============================] - 73s 2ms/step - loss: 0.7919 - accuracy: 0.7574 - val_loss: 0.3911 - val_accuracy: 0.8840\n",
      "Epoch 5/20\n",
      "31367/31367 [==============================] - 73s 2ms/step - loss: 0.5825 - accuracy: 0.8208 - val_loss: 0.1897 - val_accuracy: 0.9470\n",
      "Epoch 6/20\n",
      "31367/31367 [==============================] - 76s 2ms/step - loss: 0.4556 - accuracy: 0.8613 - val_loss: 0.1973 - val_accuracy: 0.9447\n",
      "Epoch 7/20\n",
      "31367/31367 [==============================] - 76s 2ms/step - loss: 0.3819 - accuracy: 0.8841 - val_loss: 0.1615 - val_accuracy: 0.9519\n",
      "Epoch 8/20\n",
      "31367/31367 [==============================] - 72s 2ms/step - loss: 0.3212 - accuracy: 0.9032 - val_loss: 0.1150 - val_accuracy: 0.9671\n",
      "Epoch 9/20\n",
      "31367/31367 [==============================] - 73s 2ms/step - loss: 0.2961 - accuracy: 0.9095 - val_loss: 0.1006 - val_accuracy: 0.9765\n",
      "Epoch 10/20\n",
      "31367/31367 [==============================] - 74s 2ms/step - loss: 0.2532 - accuracy: 0.9228 - val_loss: 0.1154 - val_accuracy: 0.9689\n",
      "Epoch 11/20\n",
      "31367/31367 [==============================] - 76s 2ms/step - loss: 0.2669 - accuracy: 0.9221 - val_loss: 0.0977 - val_accuracy: 0.9722\n",
      "Epoch 12/20\n",
      "31367/31367 [==============================] - 73s 2ms/step - loss: 0.2450 - accuracy: 0.9278 - val_loss: 0.1105 - val_accuracy: 0.9717\n",
      "Epoch 13/20\n",
      "31367/31367 [==============================] - 73s 2ms/step - loss: 0.2151 - accuracy: 0.9365 - val_loss: 0.0805 - val_accuracy: 0.9801\n",
      "Epoch 14/20\n",
      "31367/31367 [==============================] - 73s 2ms/step - loss: 0.2147 - accuracy: 0.9375 - val_loss: 0.0991 - val_accuracy: 0.9739\n",
      "Epoch 15/20\n",
      "31367/31367 [==============================] - 73s 2ms/step - loss: 0.2131 - accuracy: 0.9366 - val_loss: 0.1140 - val_accuracy: 0.9674\n",
      "Epoch 16/20\n",
      "31367/31367 [==============================] - 70s 2ms/step - loss: 0.2146 - accuracy: 0.9363 - val_loss: 0.0824 - val_accuracy: 0.9783\n",
      "Epoch 17/20\n",
      "31367/31367 [==============================] - 73s 2ms/step - loss: 0.1991 - accuracy: 0.9431 - val_loss: 0.0797 - val_accuracy: 0.9791\n",
      "Epoch 18/20\n",
      "31367/31367 [==============================] - 77s 2ms/step - loss: 0.1847 - accuracy: 0.9463 - val_loss: 0.0793 - val_accuracy: 0.9784\n",
      "Epoch 19/20\n",
      "31367/31367 [==============================] - 72s 2ms/step - loss: 0.1926 - accuracy: 0.9424 - val_loss: 0.0638 - val_accuracy: 0.9811\n",
      "Epoch 20/20\n",
      "31367/31367 [==============================] - 72s 2ms/step - loss: 0.1823 - accuracy: 0.9466 - val_loss: 0.0678 - val_accuracy: 0.9802\n"
     ]
    }
   ],
   "source": [
    "epochs=20\n",
    "history=model.fit(X_train,Y_train,\n",
    "                  batch_size=64,\n",
    "                  epochs=epochs,\n",
    "                  validation_data=(X_test,Y_test))"
   ]
  },
  {
   "cell_type": "code",
   "execution_count": 204,
   "metadata": {},
   "outputs": [
    {
     "data": {
      "text/plain": [
       "<matplotlib.legend.Legend at 0x29b87404ec8>"
      ]
     },
     "execution_count": 204,
     "metadata": {},
     "output_type": "execute_result"
    },
    {
     "data": {
      "image/png": "[encoded data removed]",
      "text/plain": [
       "<Figure size 432x288 with 1 Axes>"
      ]
     },
     "metadata": {
      "needs_background": "light"
     },
     "output_type": "display_data"
    }
   ],
   "source": [
    "plt.figure(0)\n",
    "plt.plot(history.history['accuracy'],label=\"Training accuracy\")\n",
    "plt.plot(history.history['val_accuracy'],label=\"Validation accuracy\")\n",
    "plt.title(\"Model accuracy\")\n",
    "plt.xlabel(\"epochs\")\n",
    "plt.ylabel(\"Accuracy\")\n",
    "plt.legend()\n"
   ]
  },
  {
   "cell_type": "code",
   "execution_count": 203,
   "metadata": {},
   "outputs": [
    {
     "data": {
      "text/plain": [
       "<matplotlib.legend.Legend at 0x29b87383f88>"
      ]
     },
     "execution_count": 203,
     "metadata": {},
     "output_type": "execute_result"
    },
    {
     "data": {
      "image/png": "[encoded data removed]",
      "text/plain": [
       "<Figure size 432x288 with 1 Axes>"
      ]
     },
     "metadata": {
      "needs_background": "light"
     },
     "output_type": "display_data"
    }
   ],
   "source": [
    "plt.figure(1)\n",
    "plt.plot(history.history['loss'],label=\"Training loss\")\n",
    "plt.plot(history.history['val_loss'],label=\"Validation loss\")\n",
    "plt.title(\"Model loss\")\n",
    "plt.xlabel(\"epochs\")\n",
    "plt.ylabel(\"loss\")\n",
    "plt.legend()"
   ]
  },
  {
   "cell_type": "markdown",
   "metadata": {},
   "source": [
    "#### Testing model"
   ]
  },
  {
   "cell_type": "code",
   "execution_count": 209,
   "metadata": {},
   "outputs": [],
   "source": [
    "Y_test=pd.read_csv(\"F:\\BSU_FAMCS\\SignsRecognition\\gtsrb-german-traffic-sign\\\\Test.csv\")\n",
    "\n",
    "labels=Y_test[\"ClassId\"].values\n",
    "images=Y_test[\"Path\"].values\n",
    "\n",
    "data=[]\n",
    "\n",
    "for img in images:\n",
    "    image=Image.open(\"gtsrb-german-traffic-sign\\\\\"+img)\n",
    "    image=image.resize((30,30))\n",
    "    data.append(np.array(image))\n",
    "    \n",
    "X_test=np.array(data)\n",
    "\n",
    "#Predicting\n",
    "prediction=model.predict_classes(X_test)"
   ]
  },
  {
   "cell_type": "code",
   "execution_count": 210,
   "metadata": {},
   "outputs": [
    {
     "data": {
      "text/plain": [
       "array([16,  1, 38, ..., 32,  7, 10], dtype=int64)"
      ]
     },
     "execution_count": 210,
     "metadata": {},
     "output_type": "execute_result"
    }
   ],
   "source": [
    "prediction"
   ]
  },
  {
   "cell_type": "code",
   "execution_count": 212,
   "metadata": {},
   "outputs": [
    {
     "name": "stdout",
     "output_type": "stream",
     "text": [
      "0.946159936658749\n"
     ]
    }
   ],
   "source": [
    "#Counting accuracy for our model\n",
    "from sklearn.metrics import accuracy_score\n",
    "\n",
    "score= accuracy_score(labels,prediction)\n",
    "print(score)"
   ]
  },
  {
   "cell_type": "markdown",
   "metadata": {},
   "source": [
    "## Accuracy score: 0,946"
   ]
  },
  {
   "cell_type": "code",
   "execution_count": 215,
   "metadata": {},
   "outputs": [],
   "source": [
    "#Saving our model\n",
    "model.save(\"SignClassifier.h5\")"
   ]
  }
 ],
 "metadata": {
  "kernelspec": {
   "display_name": "Python 3",
   "language": "python",
   "name": "python3"
  },
  "language_info": {
   "codemirror_mode": {
    "name": "ipython",
    "version": 3
   },
   "file_extension": ".py",
   "mimetype": "text/x-python",
   "name": "python",
   "nbconvert_exporter": "python",
   "pygments_lexer": "ipython3",
   "version": "3.7.4"
  }
 },
 "nbformat": 4,
 "nbformat_minor": 2
}
